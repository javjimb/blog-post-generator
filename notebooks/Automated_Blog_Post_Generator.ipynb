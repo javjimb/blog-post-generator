{
 "cells": [
  {
   "cell_type": "markdown",
   "metadata": {},
   "source": [
    "# Automated Blog Post Generator for Dog-Friendly Travel in Denia\n",
    "\n",
    "## Project Description\n",
    "\n",
    "This project aims to demonstrate how to create an automated system for generating SEO-friendly blog posts about a specific topic. In this case, we will focus on traveling with dogs in Denia, Costa Blanca. The generated content will cover pet-friendly places such as restaurants, beaches, parks, shops, and activities.\n",
    "\n",
    "## Goals\n",
    "1. **Innovative Content Creation**: Develop an automated system to generate SEO-friendly blog posts.\n",
    "2. **Advanced Retrieval System**: Use Pinecone for storing and querying text embeddings.\n",
    "3. **Generative Model**: Fine-tune a GPT model to generate high-quality articles.\n",
    "4. **SEO Optimization**: Optimize generated content for SEO.\n",
    "5. **User-Friendly Interface**: Create an intuitive web interface using Vue.js for inputting topics and viewing generated content.\n",
    "\n",
    "## Step 1: Setup\n"
   ]
  },
  {
   "cell_type": "code",
   "execution_count": 2,
   "metadata": {},
   "outputs": [
    {
     "name": "stdout",
     "output_type": "stream",
     "text": [
      "Requirement already satisfied: requests in /opt/homebrew/lib/python3.11/site-packages (2.32.3)\n",
      "Requirement already satisfied: beautifulsoup4 in /opt/homebrew/lib/python3.11/site-packages (4.12.3)\n",
      "Requirement already satisfied: pandas in /opt/homebrew/lib/python3.11/site-packages (2.2.2)\n",
      "Requirement already satisfied: transformers in /opt/homebrew/lib/python3.11/site-packages (4.42.3)\n",
      "Requirement already satisfied: torch in /opt/homebrew/lib/python3.11/site-packages (2.3.1)\n",
      "Requirement already satisfied: pinecone-client in /opt/homebrew/lib/python3.11/site-packages (4.1.1)\n",
      "Collecting python-dotenv\n",
      "  Using cached python_dotenv-1.0.1-py3-none-any.whl.metadata (23 kB)\n",
      "Requirement already satisfied: charset-normalizer<4,>=2 in /opt/homebrew/lib/python3.11/site-packages (from requests) (3.3.2)\n",
      "Requirement already satisfied: idna<4,>=2.5 in /opt/homebrew/lib/python3.11/site-packages (from requests) (3.7)\n",
      "Requirement already satisfied: urllib3<3,>=1.21.1 in /opt/homebrew/lib/python3.11/site-packages (from requests) (2.2.2)\n",
      "Requirement already satisfied: certifi>=2017.4.17 in /opt/homebrew/lib/python3.11/site-packages (from requests) (2024.6.2)\n",
      "Requirement already satisfied: soupsieve>1.2 in /opt/homebrew/lib/python3.11/site-packages (from beautifulsoup4) (2.5)\n",
      "Requirement already satisfied: numpy>=1.23.2 in /opt/homebrew/lib/python3.11/site-packages (from pandas) (1.26.4)\n",
      "Requirement already satisfied: python-dateutil>=2.8.2 in /Users/javier.jimenez/Library/Python/3.11/lib/python/site-packages (from pandas) (2.9.0.post0)\n",
      "Requirement already satisfied: pytz>=2020.1 in /opt/homebrew/lib/python3.11/site-packages (from pandas) (2024.1)\n",
      "Requirement already satisfied: tzdata>=2022.7 in /opt/homebrew/lib/python3.11/site-packages (from pandas) (2024.1)\n",
      "Requirement already satisfied: filelock in /opt/homebrew/lib/python3.11/site-packages (from transformers) (3.15.4)\n",
      "Requirement already satisfied: huggingface-hub<1.0,>=0.23.2 in /opt/homebrew/lib/python3.11/site-packages (from transformers) (0.23.4)\n",
      "Requirement already satisfied: packaging>=20.0 in /Users/javier.jimenez/Library/Python/3.11/lib/python/site-packages (from transformers) (24.1)\n",
      "Requirement already satisfied: pyyaml>=5.1 in /opt/homebrew/lib/python3.11/site-packages (from transformers) (6.0.1)\n",
      "Requirement already satisfied: regex!=2019.12.17 in /opt/homebrew/lib/python3.11/site-packages (from transformers) (2024.5.15)\n",
      "Requirement already satisfied: safetensors>=0.4.1 in /opt/homebrew/lib/python3.11/site-packages (from transformers) (0.4.3)\n",
      "Requirement already satisfied: tokenizers<0.20,>=0.19 in /opt/homebrew/lib/python3.11/site-packages (from transformers) (0.19.1)\n",
      "Requirement already satisfied: tqdm>=4.27 in /opt/homebrew/lib/python3.11/site-packages (from transformers) (4.66.4)\n",
      "Requirement already satisfied: typing-extensions>=4.8.0 in /Users/javier.jimenez/Library/Python/3.11/lib/python/site-packages (from torch) (4.12.2)\n",
      "Requirement already satisfied: sympy in /opt/homebrew/lib/python3.11/site-packages (from torch) (1.12.1)\n",
      "Requirement already satisfied: networkx in /opt/homebrew/lib/python3.11/site-packages (from torch) (3.3)\n",
      "Requirement already satisfied: jinja2 in /opt/homebrew/lib/python3.11/site-packages (from torch) (3.1.4)\n",
      "Requirement already satisfied: fsspec in /opt/homebrew/lib/python3.11/site-packages (from torch) (2024.6.1)\n",
      "Requirement already satisfied: pinecone-plugin-interface<0.0.8,>=0.0.7 in /opt/homebrew/lib/python3.11/site-packages (from pinecone-client) (0.0.7)\n",
      "Requirement already satisfied: six>=1.5 in /Users/javier.jimenez/Library/Python/3.11/lib/python/site-packages (from python-dateutil>=2.8.2->pandas) (1.16.0)\n",
      "Requirement already satisfied: MarkupSafe>=2.0 in /opt/homebrew/lib/python3.11/site-packages (from jinja2->torch) (2.1.5)\n",
      "Requirement already satisfied: mpmath<1.4.0,>=1.1.0 in /opt/homebrew/lib/python3.11/site-packages (from sympy->torch) (1.3.0)\n",
      "Using cached python_dotenv-1.0.1-py3-none-any.whl (19 kB)\n",
      "Installing collected packages: python-dotenv\n",
      "Successfully installed python-dotenv-1.0.1\n",
      "\n",
      "\u001b[1m[\u001b[0m\u001b[34;49mnotice\u001b[0m\u001b[1;39;49m]\u001b[0m\u001b[39;49m A new release of pip is available: \u001b[0m\u001b[31;49m24.0\u001b[0m\u001b[39;49m -> \u001b[0m\u001b[32;49m24.1.1\u001b[0m\n",
      "\u001b[1m[\u001b[0m\u001b[34;49mnotice\u001b[0m\u001b[1;39;49m]\u001b[0m\u001b[39;49m To update, run: \u001b[0m\u001b[32;49mpython3.11 -m pip install --upgrade pip\u001b[0m\n",
      "Note: you may need to restart the kernel to use updated packages.\n"
     ]
    }
   ],
   "source": [
    "# Install the required libraries\n",
    "%pip install requests beautifulsoup4 pandas transformers torch pinecone-client python-dotenv\n"
   ]
  },
  {
   "cell_type": "code",
   "execution_count": 7,
   "metadata": {},
   "outputs": [],
   "source": [
    "# Import the necessary libraries\n",
    "import requests\n",
    "from bs4 import BeautifulSoup\n",
    "import pandas as pd\n",
    "import re\n",
    "from transformers import BertTokenizer, BertModel\n",
    "import torch\n",
    "from pinecone import Pinecone, ServerlessSpec\n",
    "from dotenv import load_dotenv\n",
    "import os\n"
   ]
  },
  {
   "cell_type": "markdown",
   "metadata": {},
   "source": [
    "Let's use Pinecone to store and query text embeddings. First, we need to create an index to store the embeddings.\n"
   ]
  },
  {
   "cell_type": "code",
   "execution_count": 9,
   "metadata": {},
   "outputs": [],
   "source": [
    "# Load environment variables from .env file\n",
    "load_dotenv()\n",
    "\n",
    "pinecone = Pinecone(\n",
    "    api_key=os.getenv(\"PINECONE_API_KEY\")\n",
    ")\n",
    "\n",
    "# Create a new index if it does not exist\n",
    "index_name = 'denia-dog-travel'\n",
    "if index_name not in pinecone.list_indexes():\n",
    "    pinecone.create_index(\n",
    "        index_name,\n",
    "        dimension=768, # common size for GPT-2, BERT, etc.\n",
    "        metric='cosine',\n",
    "        spec=ServerlessSpec(\n",
    "            cloud='aws',\n",
    "            region='us-east-1',\n",
    "        )\n",
    "      )\n",
    "\n",
    "# Connect to the index\n",
    "index = pinecone.Index(index_name)\n"
   ]
  },
  {
   "cell_type": "markdown",
   "metadata": {},
   "source": [
    "## Step 2: Data Collection\n",
    "\n",
    "Define a function to scrape data from the web"
   ]
  },
  {
   "cell_type": "code",
   "execution_count": 10,
   "metadata": {},
   "outputs": [
    {
     "data": {
      "text/html": [
       "<div>\n",
       "<style scoped>\n",
       "    .dataframe tbody tr th:only-of-type {\n",
       "        vertical-align: middle;\n",
       "    }\n",
       "\n",
       "    .dataframe tbody tr th {\n",
       "        vertical-align: top;\n",
       "    }\n",
       "\n",
       "    .dataframe thead th {\n",
       "        text-align: right;\n",
       "    }\n",
       "</style>\n",
       "<table border=\"1\" class=\"dataframe\">\n",
       "  <thead>\n",
       "    <tr style=\"text-align: right;\">\n",
       "      <th></th>\n",
       "      <th>title</th>\n",
       "      <th>content</th>\n",
       "    </tr>\n",
       "  </thead>\n",
       "  <tbody>\n",
       "    <tr>\n",
       "      <th>0</th>\n",
       "      <td>Sorry, you have been blocked</td>\n",
       "      <td>This website is using a security service to pr...</td>\n",
       "    </tr>\n",
       "    <tr>\n",
       "      <th>1</th>\n",
       "      <td>Dog beach in Denia</td>\n",
       "      <td>Home » Dog beach in Denia The coast of Dénia i...</td>\n",
       "    </tr>\n",
       "    <tr>\n",
       "      <th>2</th>\n",
       "      <td>Dog Friendly Beaches in Denia</td>\n",
       "      <td>Playa Els Molins is a picturesque beach locate...</td>\n",
       "    </tr>\n",
       "    <tr>\n",
       "      <th>3</th>\n",
       "      <td>Playa Els Molins</td>\n",
       "      <td>Playa Els Molins amenities include parking and...</td>\n",
       "    </tr>\n",
       "    <tr>\n",
       "      <th>4</th>\n",
       "      <td>Playa Escollera Norte Puerto de Denia</td>\n",
       "      <td>Playa Escollera Norte Puerto de Denia amenitie...</td>\n",
       "    </tr>\n",
       "  </tbody>\n",
       "</table>\n",
       "</div>"
      ],
      "text/plain": [
       "                                   title  \\\n",
       "0           Sorry, you have been blocked   \n",
       "1                     Dog beach in Denia   \n",
       "2          Dog Friendly Beaches in Denia   \n",
       "3                       Playa Els Molins   \n",
       "4  Playa Escollera Norte Puerto de Denia   \n",
       "\n",
       "                                             content  \n",
       "0  This website is using a security service to pr...  \n",
       "1  Home » Dog beach in Denia The coast of Dénia i...  \n",
       "2  Playa Els Molins is a picturesque beach locate...  \n",
       "3  Playa Els Molins amenities include parking and...  \n",
       "4  Playa Escollera Norte Puerto de Denia amenitie...  "
      ]
     },
     "execution_count": 10,
     "metadata": {},
     "output_type": "execute_result"
    }
   ],
   "source": [
    "def scrape_blog_post(url):\n",
    "    response = requests.get(url)\n",
    "    soup = BeautifulSoup(response.text, 'html.parser')\n",
    "    title = soup.find('h1').text if soup.find('h1') else 'No Title'\n",
    "    content = ' '.join([p.text for p in soup.find_all('p')])\n",
    "    return {'title': title, 'content': content}\n",
    "\n",
    "blog_urls = [\n",
    "    'https://www.happyinthesun.com/en/dog-beach-in-denia/',\n",
    "    'https://www.beachatlas.com/dog-friendly-beaches-denia',\n",
    "    'https://www.beachatlas.com/els-molins',\n",
    "    'https://www.beachatlas.com/escollera-norte-puerto-denia',\n",
    "    'https://www.mnmcostablanca.com/Blog/travelling-by-balearia-ferry-from-denia',\n",
    "    'https://tlcdenia.com/experience-claudia-attar/',\n",
    "    'https://www.rewindthegap.co.uk/2020/03/10/trust-resort-canino-ondara/',\n",
    "    'https://emmenetonchien.com/en/plage-chien-autorise/plage-escollera-norte/',\n",
    "    'https://blog.cumbredelsol.com/en/19364/events/exploring-the-dog-friendly-beaches-of-the-costa-blanca-north.html',\n",
    "    'https://www.denia.com/en/playas-de-perros/',\n",
    "    'https://euroweeklynews.com/2022/06/01/denia-dog-friendly-beaches-for-the-summer/',\n",
    "    'https://denia.net/canine-bathing-area-and-beach-regulations',\n",
    "    'https://www.thefork.com/restaurants/denia-c133452/dog-friendly-t348',\n",
    "    'https://www.muchosol.co.uk/escapes/pet-friendly-accommodations-in-denia',\n",
    "]\n",
    "\n",
    "# Scrape blog posts\n",
    "blogs = [scrape_blog_post(url) for url in blog_urls]\n",
    "\n",
    "# Convert to DataFrame\n",
    "df_blogs = pd.DataFrame(blogs)\n",
    "df_blogs.head()\n"
   ]
  },
  {
   "cell_type": "markdown",
   "metadata": {},
   "source": [
    "## Step 3: Data Preprocessing"
   ]
  },
  {
   "cell_type": "code",
   "execution_count": 38,
   "metadata": {},
   "outputs": [
    {
     "data": {
      "text/html": [
       "<div>\n",
       "<style scoped>\n",
       "    .dataframe tbody tr th:only-of-type {\n",
       "        vertical-align: middle;\n",
       "    }\n",
       "\n",
       "    .dataframe tbody tr th {\n",
       "        vertical-align: top;\n",
       "    }\n",
       "\n",
       "    .dataframe thead th {\n",
       "        text-align: right;\n",
       "    }\n",
       "</style>\n",
       "<table border=\"1\" class=\"dataframe\">\n",
       "  <thead>\n",
       "    <tr style=\"text-align: right;\">\n",
       "      <th></th>\n",
       "      <th>title</th>\n",
       "      <th>content</th>\n",
       "      <th>cleaned_content</th>\n",
       "      <th>embeddings</th>\n",
       "    </tr>\n",
       "  </thead>\n",
       "  <tbody>\n",
       "    <tr>\n",
       "      <th>0</th>\n",
       "      <td>Dog beach in Denia</td>\n",
       "      <td>Home » Dog beach in Denia The coast of Dénia is one of the main attractions of the city. However...</td>\n",
       "      <td>home  dog beach in denia the coast of dnia is one of the main attractions of the city however it...</td>\n",
       "      <td>[[0.06546249, 0.11949071, -0.93020034, 0.11505492, -0.114872605, 0.0494746, 0.07108152, -0.03792...</td>\n",
       "    </tr>\n",
       "    <tr>\n",
       "      <th>1</th>\n",
       "      <td>Dog Friendly Beaches in Denia</td>\n",
       "      <td>Playa Els Molins is a picturesque beach located in Dénia, Spain. This tranquil spot stretches ov...</td>\n",
       "      <td>playa els molins is a picturesque beach located in dnia spain this tranquil spot stretches over ...</td>\n",
       "      <td>[[0.16946755, 0.109530985, -0.77464455, 0.046797127, -0.033379883, 0.2561004, 0.11223618, -0.059...</td>\n",
       "    </tr>\n",
       "  </tbody>\n",
       "</table>\n",
       "</div>"
      ],
      "text/plain": [
       "                           title  \\\n",
       "0             Dog beach in Denia   \n",
       "1  Dog Friendly Beaches in Denia   \n",
       "\n",
       "                                                                                               content  \\\n",
       "0  Home » Dog beach in Denia The coast of Dénia is one of the main attractions of the city. However...   \n",
       "1  Playa Els Molins is a picturesque beach located in Dénia, Spain. This tranquil spot stretches ov...   \n",
       "\n",
       "                                                                                       cleaned_content  \\\n",
       "0  home  dog beach in denia the coast of dnia is one of the main attractions of the city however it...   \n",
       "1  playa els molins is a picturesque beach located in dnia spain this tranquil spot stretches over ...   \n",
       "\n",
       "                                                                                            embeddings  \n",
       "0  [[0.06546249, 0.11949071, -0.93020034, 0.11505492, -0.114872605, 0.0494746, 0.07108152, -0.03792...  \n",
       "1  [[0.16946755, 0.109530985, -0.77464455, 0.046797127, -0.033379883, 0.2561004, 0.11223618, -0.059...  "
      ]
     },
     "execution_count": 38,
     "metadata": {},
     "output_type": "execute_result"
    }
   ],
   "source": [
    "def preprocess_text(text):\n",
    "    # Remove HTML tags and special characters\n",
    "    text = re.sub(r'<[^>]+>', '', text)\n",
    "    text = re.sub(r'[^a-zA-Z0-9\\s]', '', text)\n",
    "    text = text.lower()\n",
    "    return text\n",
    "\n",
    "df_blogs['cleaned_content'] = df_blogs['content'].apply(preprocess_text)\n",
    "df_blogs.head(2)\n"
   ]
  },
  {
   "cell_type": "markdown",
   "metadata": {},
   "source": [
    "## Step 4: Generate Text Embeddings with GPT-2"
   ]
  },
  {
   "cell_type": "code",
   "execution_count": 21,
   "metadata": {},
   "outputs": [],
   "source": [
    "# Drop the first row of the data frame as it has bad data\n",
    "df_blogs = df_blogs.drop(index=0).reset_index(drop=True)"
   ]
  },
  {
   "cell_type": "code",
   "execution_count": 25,
   "metadata": {},
   "outputs": [],
   "source": [
    "from transformers import GPT2Tokenizer, GPT2Model\n",
    "import torch\n",
    "\n",
    "# Load pre-trained GPT-2 model and tokenizer\n",
    "model_name = 'gpt2'\n",
    "tokenizer = GPT2Tokenizer.from_pretrained(model_name)\n",
    "model = GPT2Model.from_pretrained(model_name)\n",
    "\n",
    "# Set padding token\n",
    "tokenizer.pad_token = tokenizer.eos_token\n"
   ]
  },
  {
   "cell_type": "code",
   "execution_count": 32,
   "metadata": {},
   "outputs": [],
   "source": [
    "def generate_embeddings(text):\n",
    "    \"\"\"\n",
    "    Generate embeddings for a given text using GPT-2.\n",
    "\n",
    "    This function tokenizes the input text, passes it through the GPT-2 model to obtain hidden states,\n",
    "    and then computes a fixed-size embedding by averaging the hidden states of all tokens.\n",
    "\n",
    "    Args:\n",
    "        text (str): The input text to be converted into embeddings.\n",
    "\n",
    "    Returns:\n",
    "        np.ndarray: A numpy array representing the fixed-size embedding of the input text.\n",
    "    \"\"\"\n",
    "\n",
    "    # Tokenize the input text\n",
    "    inputs = tokenizer(\n",
    "        text,\n",
    "        return_tensors='pt', # Specifies that the output should be in the form of PyTorch tensors.\n",
    "        truncation=True, # Ensures the input text is truncated to the maximum length of 512 tokens if necessary.\n",
    "        padding=True,  # Pads the input text to ensure uniform length.\n",
    "        max_length=512 # Sets the maximum length for the input sequence.\n",
    "      )\n",
    "    \n",
    "    # Check if the tokenization resulted in a valid tensor\n",
    "    if inputs['input_ids'].shape[1] == 0:\n",
    "        return None  # Return None for empty or invalid inputs\n",
    "    \n",
    "    # Pass the tokenized input through the GPT-2 model\n",
    "    outputs = model(**inputs)\n",
    "    # The outputs include the hidden states of the model at the last layer for each token in the input sequence.\n",
    "    # Hidden states are intermediate representations that capture various levels of abstraction and semantic information about the input text.\n",
    "\n",
    "    # Compute the mean of the last hidden state to represent the embedding\n",
    "    embeddings = outputs.last_hidden_state.mean(dim=1)\n",
    "\n",
    "    # Detach the tensor from the computational graph and convert it to a numpy array\n",
    "    # to prevent further gradients from being calculated and for easier manipulation and storage.\n",
    "    return embeddings.detach().numpy()\n"
   ]
  },
  {
   "cell_type": "code",
   "execution_count": 33,
   "metadata": {},
   "outputs": [
    {
     "data": {
      "text/html": [
       "<div>\n",
       "<style scoped>\n",
       "    .dataframe tbody tr th:only-of-type {\n",
       "        vertical-align: middle;\n",
       "    }\n",
       "\n",
       "    .dataframe tbody tr th {\n",
       "        vertical-align: top;\n",
       "    }\n",
       "\n",
       "    .dataframe thead th {\n",
       "        text-align: right;\n",
       "    }\n",
       "</style>\n",
       "<table border=\"1\" class=\"dataframe\">\n",
       "  <thead>\n",
       "    <tr style=\"text-align: right;\">\n",
       "      <th></th>\n",
       "      <th>title</th>\n",
       "      <th>content</th>\n",
       "      <th>cleaned_content</th>\n",
       "      <th>embeddings</th>\n",
       "    </tr>\n",
       "  </thead>\n",
       "  <tbody>\n",
       "    <tr>\n",
       "      <th>0</th>\n",
       "      <td>Dog beach in Denia</td>\n",
       "      <td>Home » Dog beach in Denia The coast of Dénia is one of the main attractions of the city. However...</td>\n",
       "      <td>home  dog beach in denia the coast of dnia is one of the main attractions of the city however it...</td>\n",
       "      <td>[[0.06546249, 0.11949071, -0.93020034, 0.11505492, -0.114872605, 0.0494746, 0.07108152, -0.03792...</td>\n",
       "    </tr>\n",
       "    <tr>\n",
       "      <th>1</th>\n",
       "      <td>Dog Friendly Beaches in Denia</td>\n",
       "      <td>Playa Els Molins is a picturesque beach located in Dénia, Spain. This tranquil spot stretches ov...</td>\n",
       "      <td>playa els molins is a picturesque beach located in dnia spain this tranquil spot stretches over ...</td>\n",
       "      <td>[[0.16946755, 0.109530985, -0.77464455, 0.046797127, -0.033379883, 0.2561004, 0.11223618, -0.059...</td>\n",
       "    </tr>\n",
       "    <tr>\n",
       "      <th>2</th>\n",
       "      <td>Playa Els Molins</td>\n",
       "      <td>Playa Els Molins amenities include parking and loungers. Best restaurants near Playa Els Molins ...</td>\n",
       "      <td>playa els molins amenities include parking and loungers best restaurants near playa els molins i...</td>\n",
       "      <td>[[0.33472726, -0.09248481, -0.8055865, 0.081854455, -0.14519772, 0.19423556, 0.4100061, -0.10396...</td>\n",
       "    </tr>\n",
       "    <tr>\n",
       "      <th>3</th>\n",
       "      <td>Playa Escollera Norte Puerto de Denia</td>\n",
       "      <td>Playa Escollera Norte Puerto de Denia amenities include parking. Best restaurants near Playa Esc...</td>\n",
       "      <td>playa escollera norte puerto de denia amenities include parking best restaurants near playa esco...</td>\n",
       "      <td>[[0.3666223, -0.18818898, -0.6287987, 0.06308876, -0.23106927, 0.32673752, 0.8353995, -0.2362218...</td>\n",
       "    </tr>\n",
       "    <tr>\n",
       "      <th>4</th>\n",
       "      <td>Sorry, you have been blocked</td>\n",
       "      <td>This website is using a security service to protect itself from online attacks. The action you j...</td>\n",
       "      <td>this website is using a security service to protect itself from online attacks the action you ju...</td>\n",
       "      <td>[[0.15065706, -0.0007279099, -0.44581804, 0.22798474, -0.19323938, 0.17989622, 3.7230008, -0.024...</td>\n",
       "    </tr>\n",
       "  </tbody>\n",
       "</table>\n",
       "</div>"
      ],
      "text/plain": [
       "                                   title  \\\n",
       "0                     Dog beach in Denia   \n",
       "1          Dog Friendly Beaches in Denia   \n",
       "2                       Playa Els Molins   \n",
       "3  Playa Escollera Norte Puerto de Denia   \n",
       "4           Sorry, you have been blocked   \n",
       "\n",
       "                                                                                               content  \\\n",
       "0  Home » Dog beach in Denia The coast of Dénia is one of the main attractions of the city. However...   \n",
       "1  Playa Els Molins is a picturesque beach located in Dénia, Spain. This tranquil spot stretches ov...   \n",
       "2  Playa Els Molins amenities include parking and loungers. Best restaurants near Playa Els Molins ...   \n",
       "3  Playa Escollera Norte Puerto de Denia amenities include parking. Best restaurants near Playa Esc...   \n",
       "4  This website is using a security service to protect itself from online attacks. The action you j...   \n",
       "\n",
       "                                                                                       cleaned_content  \\\n",
       "0  home  dog beach in denia the coast of dnia is one of the main attractions of the city however it...   \n",
       "1  playa els molins is a picturesque beach located in dnia spain this tranquil spot stretches over ...   \n",
       "2  playa els molins amenities include parking and loungers best restaurants near playa els molins i...   \n",
       "3  playa escollera norte puerto de denia amenities include parking best restaurants near playa esco...   \n",
       "4  this website is using a security service to protect itself from online attacks the action you ju...   \n",
       "\n",
       "                                                                                            embeddings  \n",
       "0  [[0.06546249, 0.11949071, -0.93020034, 0.11505492, -0.114872605, 0.0494746, 0.07108152, -0.03792...  \n",
       "1  [[0.16946755, 0.109530985, -0.77464455, 0.046797127, -0.033379883, 0.2561004, 0.11223618, -0.059...  \n",
       "2  [[0.33472726, -0.09248481, -0.8055865, 0.081854455, -0.14519772, 0.19423556, 0.4100061, -0.10396...  \n",
       "3  [[0.3666223, -0.18818898, -0.6287987, 0.06308876, -0.23106927, 0.32673752, 0.8353995, -0.2362218...  \n",
       "4  [[0.15065706, -0.0007279099, -0.44581804, 0.22798474, -0.19323938, 0.17989622, 3.7230008, -0.024...  "
      ]
     },
     "execution_count": 33,
     "metadata": {},
     "output_type": "execute_result"
    }
   ],
   "source": [
    "# Generate embeddings for the cleaned content of the blog posts\n",
    "df_blogs['embeddings'] = df_blogs['cleaned_content'].apply(generate_embeddings)\n",
    "\n",
    "# Drop rows where embeddings are None\n",
    "df_blogs = df_blogs[df_blogs['embeddings'].notnull()]\n",
    "df_blogs.head()"
   ]
  },
  {
   "cell_type": "markdown",
   "metadata": {},
   "source": [
    "## Step 5: Store Text Embeddings in Pinecone"
   ]
  },
  {
   "cell_type": "code",
   "execution_count": 37,
   "metadata": {},
   "outputs": [
    {
     "data": {
      "text/plain": [
       "{'upserted_count': 12}"
      ]
     },
     "execution_count": 37,
     "metadata": {},
     "output_type": "execute_result"
    }
   ],
   "source": [
    "# Prepare embeddings and metadata for indexing\n",
    "embeddings_with_metadata = []\n",
    "\n",
    "for idx, row in df_blogs.iterrows():\n",
    "    # Flatten the embedding to ensure it is a list of floats\n",
    "    embedding = row['embeddings'].flatten().tolist()\n",
    "    embeddings_with_metadata.append({\n",
    "        'id': str(idx),\n",
    "        'values': embedding,\n",
    "        'metadata': {'title': row['title'], 'content': row['content']}\n",
    "    })\n",
    "\n",
    "# Index the embeddings with metadata in Pinecone\n",
    "index.upsert(vectors=embeddings_with_metadata)"
   ]
  },
  {
   "cell_type": "code",
   "execution_count": 39,
   "metadata": {},
   "outputs": [
    {
     "data": {
      "text/plain": [
       "{'dimension': 768,\n",
       " 'index_fullness': 0.0,\n",
       " 'namespaces': {'': {'vector_count': 12}},\n",
       " 'total_vector_count': 12}"
      ]
     },
     "execution_count": 39,
     "metadata": {},
     "output_type": "execute_result"
    }
   ],
   "source": [
    "# Verify that metadata is indexed correctly\n",
    "index.describe_index_stats()\n"
   ]
  }
 ],
 "metadata": {
  "kernelspec": {
   "display_name": "Python 3",
   "language": "python",
   "name": "python3"
  },
  "language_info": {
   "codemirror_mode": {
    "name": "ipython",
    "version": 3
   },
   "file_extension": ".py",
   "mimetype": "text/x-python",
   "name": "python",
   "nbconvert_exporter": "python",
   "pygments_lexer": "ipython3",
   "version": "3.11.9"
  }
 },
 "nbformat": 4,
 "nbformat_minor": 2
}
